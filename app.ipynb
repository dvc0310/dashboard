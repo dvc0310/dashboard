{
 "cells": [
  {
   "cell_type": "markdown",
   "metadata": {},
   "source": [
    "# Install the required dependencies"
   ]
  },
  {
   "cell_type": "code",
   "execution_count": null,
   "metadata": {},
   "outputs": [],
   "source": [
    "!pip install dash plotly pandas scipy statsmodels faker chardet"
   ]
  },
  {
   "cell_type": "markdown",
   "metadata": {},
   "source": [
    "## Run the dashboard"
   ]
  },
  {
   "cell_type": "code",
   "execution_count": 7,
   "metadata": {},
   "outputs": [
    {
     "name": "stdout",
     "output_type": "stream",
     "text": [
      "Linking Data...\n",
      "Reading finance data from: datasets/ppe.xlsx\n",
      "The data file is missing the 'Company' column or does not have any quarter-year format columns; attempting to clean data...\n",
      "Column 'SP_ENTITY_ID' removed successfully.\n",
      "Data successfully unpivoted and normalized.\n",
      "Quarter and Year columns created successfully.\n",
      "Finance data filtered and company names cleaned successfully.\n",
      "Data linked successfully.\n",
      "Data saved successfully to datasets/prepared_data.csv.\n",
      "Dash is running on http://127.0.0.1:8050/\n",
      "\n",
      "INFO:dash.dash:Dash is running on http://127.0.0.1:8050/\n",
      "\n",
      " * Serving Flask app 'dashboard'\n",
      " * Debug mode: on\n",
      "Linking Data...\n",
      "Reading finance data from: datasets/ppe.xlsx\n",
      "The data file is missing the 'Company' column or does not have any quarter-year format columns; attempting to clean data...\n",
      "Column 'SP_ENTITY_ID' removed successfully.\n",
      "Data successfully unpivoted and normalized.\n",
      "Quarter and Year columns created successfully.\n",
      "Finance data filtered and company names cleaned successfully.\n",
      "Data linked successfully.\n",
      "Data saved successfully to datasets/prepared_data.csv.\n",
      "/Users/David/.pyenv/versions/3.9.6/lib/python3.9/site-packages/statsmodels/regression/quantile_regression.py:191: IterationLimitWarning:\n",
      "\n",
      "Maximum number of iterations (1000) reached.\n",
      "\n",
      "^C\n"
     ]
    }
   ],
   "source": [
    "!python dashboard.py --directory \"datasets\" --outage_file \"outage_data.csv\" --ppe_file \"ppe.xlsx\""
   ]
  },
  {
   "cell_type": "markdown",
   "metadata": {},
   "source": [
    "## Alternatively, prepare the data without running the dashboard"
   ]
  },
  {
   "cell_type": "code",
   "execution_count": null,
   "metadata": {},
   "outputs": [],
   "source": [
    "!python prepare_data.py --directory \"datasets\" --outage_file \"outage_data.csv\" --ppe_file \"ppe.xlsx\"\n"
   ]
  }
 ],
 "metadata": {
  "kernelspec": {
   "display_name": "Python 3",
   "language": "python",
   "name": "python3"
  },
  "language_info": {
   "codemirror_mode": {
    "name": "ipython",
    "version": 3
   },
   "file_extension": ".py",
   "mimetype": "text/x-python",
   "name": "python",
   "nbconvert_exporter": "python",
   "pygments_lexer": "ipython3",
   "version": "3.9.6"
  }
 },
 "nbformat": 4,
 "nbformat_minor": 2
}
