{
 "cells": [
  {
   "cell_type": "markdown",
   "metadata": {},
   "source": [
    "# Install the required dependencies"
   ]
  },
  {
   "cell_type": "code",
   "execution_count": null,
   "metadata": {},
   "outputs": [],
   "source": [
    "!pip install dash plotly pandas scipy statsmodels faker"
   ]
  },
  {
   "cell_type": "markdown",
   "metadata": {},
   "source": [
    "## Run the dashboard"
   ]
  },
  {
   "cell_type": "code",
   "execution_count": 6,
   "metadata": {},
   "outputs": [
    {
     "name": "stdout",
     "output_type": "stream",
     "text": [
      "Initialized with year range 2021 to 2023.\n",
      "Linking Data...\n",
      "Data aggregated and counted by company, year, and quarter successfully.\n",
      "Reading finance data from: datasets/ppe.xlsx\n",
      "The data file is missing the 'Company' column; attempting to clean data...\n",
      "Quarter and Year columns created successfully.\n",
      "Finance data filtered successfully.\n",
      "Finance data unpivoted successfully.\n",
      "Data linked successfully.\n",
      "Dash is running on http://127.0.0.1:8050/\n",
      "\n",
      "INFO:dash.dash:Dash is running on http://127.0.0.1:8050/\n",
      "\n",
      " * Serving Flask app 'dashboard'\n",
      " * Debug mode: off\n",
      "INFO:werkzeug:\u001b[31m\u001b[1mWARNING: This is a development server. Do not use it in a production deployment. Use a production WSGI server instead.\u001b[0m\n",
      " * Running on http://127.0.0.1:8050\n",
      "INFO:werkzeug:\u001b[33mPress CTRL+C to quit\u001b[0m\n",
      "INFO:werkzeug:127.0.0.1 - - [14/Jul/2024 17:50:29] \"GET / HTTP/1.1\" 200 -\n",
      "INFO:werkzeug:127.0.0.1 - - [14/Jul/2024 17:50:29] \"\u001b[36mGET /assets/style.css?m=1720710642.6491668 HTTP/1.1\u001b[0m\" 304 -\n",
      "INFO:werkzeug:127.0.0.1 - - [14/Jul/2024 17:50:30] \"GET /_dash-layout HTTP/1.1\" 200 -\n",
      "INFO:werkzeug:127.0.0.1 - - [14/Jul/2024 17:50:30] \"GET /_dash-dependencies HTTP/1.1\" 200 -\n",
      "INFO:werkzeug:127.0.0.1 - - [14/Jul/2024 17:50:30] \"\u001b[36mGET /_dash-component-suites/dash/dcc/async-datepicker.js HTTP/1.1\u001b[0m\" 304 -\n",
      "INFO:werkzeug:127.0.0.1 - - [14/Jul/2024 17:50:30] \"\u001b[36mGET /_dash-component-suites/dash/dcc/async-graph.js HTTP/1.1\u001b[0m\" 304 -\n",
      "INFO:werkzeug:127.0.0.1 - - [14/Jul/2024 17:50:30] \"\u001b[36mGET /_dash-component-suites/dash/dcc/async-dropdown.js HTTP/1.1\u001b[0m\" 304 -\n",
      "INFO:werkzeug:127.0.0.1 - - [14/Jul/2024 17:50:30] \"\u001b[36mGET /_dash-component-suites/plotly/package_data/plotly.min.js HTTP/1.1\u001b[0m\" 304 -\n",
      "INFO:werkzeug:127.0.0.1 - - [14/Jul/2024 17:50:36] \"POST /_dash-update-component HTTP/1.1\" 200 -\n",
      "INFO:werkzeug:127.0.0.1 - - [14/Jul/2024 17:50:36] \"POST /_dash-update-component HTTP/1.1\" 200 -\n",
      "INFO:werkzeug:127.0.0.1 - - [14/Jul/2024 17:50:37] \"POST /_dash-update-component HTTP/1.1\" 200 -\n",
      "INFO:werkzeug:127.0.0.1 - - [14/Jul/2024 17:50:40] \"POST /_dash-update-component HTTP/1.1\" 200 -\n",
      "INFO:werkzeug:127.0.0.1 - - [14/Jul/2024 17:50:43] \"POST /_dash-update-component HTTP/1.1\" 200 -\n",
      "INFO:werkzeug:127.0.0.1 - - [14/Jul/2024 17:51:02] \"POST /_dash-update-component HTTP/1.1\" 200 -\n",
      "INFO:werkzeug:127.0.0.1 - - [14/Jul/2024 17:51:03] \"POST /_dash-update-component HTTP/1.1\" 200 -\n",
      "^C\n"
     ]
    }
   ],
   "source": [
    "!python dashboard.py --directory \"datasets\" --outage_file \"outage_data.csv\" --ppe_file \"ppe.xlsx\""
   ]
  },
  {
   "cell_type": "markdown",
   "metadata": {},
   "source": [
    "## Alternatively, prepare the data without running the dashboard"
   ]
  },
  {
   "cell_type": "code",
   "execution_count": null,
   "metadata": {},
   "outputs": [],
   "source": [
    "!python prepare_data.py --directory \"datasets\" --outage_file \"outage_data.csv\" --ppe_file \"ppe.xlsx\"\n"
   ]
  }
 ],
 "metadata": {
  "kernelspec": {
   "display_name": "Python 3",
   "language": "python",
   "name": "python3"
  },
  "language_info": {
   "codemirror_mode": {
    "name": "ipython",
    "version": 3
   },
   "file_extension": ".py",
   "mimetype": "text/x-python",
   "name": "python",
   "nbconvert_exporter": "python",
   "pygments_lexer": "ipython3",
   "version": "3.9.6"
  }
 },
 "nbformat": 4,
 "nbformat_minor": 2
}
